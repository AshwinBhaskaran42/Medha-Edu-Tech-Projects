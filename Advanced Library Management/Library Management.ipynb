{
 "cells": [
  {
   "cell_type": "code",
   "execution_count": 2,
   "id": "02e98b82",
   "metadata": {},
   "outputs": [],
   "source": [
    "# # Expected functions (minimum):\n",
    "# def add_library_branch(branch_id, location, operating_hours)\n",
    "# def add_book(isbn, title, author, genre, copies, book_type)\n",
    "# def register_member(member_id, name, contact, membership_type)\n",
    "# def issue_book(member_id, isbn, branch_id)\n",
    "# def return_book(member_id, isbn, return_date, condition)\n",
    "# def calculate_fine(member_id, return_date, due_date)\n",
    "# def add_to_waitlist(member_id, isbn)\n",
    "# def generate_recommendations(member_id, recommendation_count)\n",
    "# def analyze_reading_patterns(member_id)\n",
    "# def generate_popular_books_report(time_period, genre)\n",
    "# def track_reading_challenge(member_id, challenge_type)"
   ]
  },
  {
   "cell_type": "code",
   "execution_count": 38,
   "id": "e2b90ae4",
   "metadata": {},
   "outputs": [],
   "source": [
    "library_branches = {}\n",
    "library_members = {}"
   ]
  },
  {
   "cell_type": "code",
   "execution_count": 39,
   "id": "231cacdd",
   "metadata": {},
   "outputs": [],
   "source": [
    "def add_library_branch(branch_id, location, operating_hours):\n",
    "\n",
    "    library_branches[branch_id]={\n",
    "        \"location\": location,\n",
    "        \"operating_hours\": operating_hours\n",
    "    }\n",
    "    print(f\"Branch {branch_id} at {location} added Successfully.\")\n",
    "\n",
    "def add_library_branches():\n",
    "    print(\"Add a new Library Branch:\")\n",
    "    while True:\n",
    "        branch_id= input(\"Enter branch id: \").strip()\n",
    "        if branch_id in library_branches:\n",
    "            print(f\"{branch_id} already exists!\")\n",
    "            continue\n",
    "        location= input(\"Enter location: \").strip()\n",
    "        operating_hours= input(\"Enter operating hours: \").strip()\n",
    "    \n",
    "        add_library_branch(branch_id, location, operating_hours)\n",
    "\n",
    "        cont= input(\"Add another branch? (yes/no): \").strip().lower()\n",
    "        if cont !='yes':\n",
    "            break"
   ]
  },
  {
   "cell_type": "code",
   "execution_count": 40,
   "id": "6d295011",
   "metadata": {},
   "outputs": [],
   "source": [
    "def add_book(isbn, title, author, genre, copies, book_type, branch_id):\n",
    "\n",
    "    books= library_branches[branch_id][\"books\"]\n",
    "\n",
    "    books[isbn]={\n",
    "        \"title\":title,\n",
    "        \"author\":author,\n",
    "        \"genre\":genre,\n",
    "        \"copies\":copies,\n",
    "        \"book_type\":book_type\n",
    "    }\n",
    "    \n",
    "    print(f\"Book '{title}' having ISBN:{isbn} successfully added to branch:{branch_id}\")    \n",
    "\n",
    "def add_books():\n",
    "    \n",
    "    \n",
    "    if \"books\" not in library_branches[branch_id]:\n",
    "        library_branches[branch_id][\"books\"]={}\n",
    "        \n",
    "    books= library_branches[branch_id][\"books\"]\n",
    "    \n",
    "    while True:\n",
    "        print(\"\\nAdding new book: \")\n",
    "        branch_id= input(\"Enter branch id: \")\n",
    "        if branch_id not in library_branches:\n",
    "            print(\"Branch does not exist.\")\n",
    "            continue\n",
    "        isbn = input(\"Enter book ISBN: \").strip()\n",
    "        if isbn in books:\n",
    "            print(f\"Book with ISBN: {isbn} already exists in branch: {branch_id}.\")\n",
    "            continue\n",
    "        title = input(\"Enter book title: \").strip()\n",
    "        author = input(\"Enter author: \").strip()\n",
    "        genre = input(\"Enter genre: \").strip()\n",
    "        copies = input(\"Enter number of copies: \").strip()\n",
    "        book_type = input(\"Enter book type (physical/digital): \").strip().lower()\n",
    "\n",
    "        if book_type not in ['physical','digital']:\n",
    "            print(\"Book type must be - physical or digital.\")\n",
    "            continue\n",
    "\n",
    "        add_book(isbn, title, author, genre, int(copies), book_type, branch_id)\n",
    "\n",
    "        cont= input(\"Add another book to this branch? (yes/no): \").strip().lower()\n",
    "        if cont !='yes':\n",
    "            break"
   ]
  },
  {
   "cell_type": "code",
   "execution_count": 26,
   "id": "c04dcf05",
   "metadata": {},
   "outputs": [
    {
     "name": "stdout",
     "output_type": "stream",
     "text": [
      "Add a new Library Branch:\n",
      "Branch 1 at hyderabad added Successfully.\n",
      "Branch 2 at chennai added Successfully.\n",
      "Branch 3 at vizag added Successfully.\n"
     ]
    }
   ],
   "source": [
    "add_library_branches()"
   ]
  },
  {
   "cell_type": "code",
   "execution_count": 27,
   "id": "516f2c21",
   "metadata": {},
   "outputs": [
    {
     "name": "stdout",
     "output_type": "stream",
     "text": [
      "{'1': {'location': 'hyderabad', 'operating_hours': '10am-5pm'}, '2': {'location': 'chennai', 'operating_hours': '11am-6pm'}, '3': {'location': 'vizag', 'operating_hours': '12pm-7pm'}}\n",
      "hyderabad\n",
      "{'location': 'hyderabad', 'operating_hours': '10am-5pm'}\n"
     ]
    }
   ],
   "source": [
    "print(library_branches)\n",
    "print(library_branches['1']['location'])\n",
    "print(library_branches['1'])"
   ]
  },
  {
   "cell_type": "code",
   "execution_count": 28,
   "id": "e917337d",
   "metadata": {},
   "outputs": [
    {
     "name": "stdout",
     "output_type": "stream",
     "text": [
      "\n",
      "Adding book/books: \n",
      "Book 'title1' having ISBN:001 successfully added to branch:1\n",
      "Book with ISBN: 001 already exists in 1.\n",
      "Book 'title2' having ISBN:002 successfully added to branch:1\n"
     ]
    }
   ],
   "source": [
    "add_books()"
   ]
  },
  {
   "cell_type": "code",
   "execution_count": 41,
   "id": "bd0865fe",
   "metadata": {},
   "outputs": [
    {
     "name": "stdout",
     "output_type": "stream",
     "text": [
      "{}\n"
     ]
    }
   ],
   "source": [
    "print(library_branches)"
   ]
  },
  {
   "cell_type": "code",
   "execution_count": 42,
   "id": "132ab7c3",
   "metadata": {},
   "outputs": [],
   "source": [
    "def register_member(member_id, name, contact, membership_type, branch_id):\n",
    "\n",
    "    library_members[member_id]={\n",
    "        'name':name,\n",
    "        'contact':contact,\n",
    "        'membership_type':membership_type,\n",
    "        'branch_id':branch_id\n",
    "    }\n",
    "    print(f\"Member: '{name}', registered with ID: {member_id} at branch: {branch_id}, with {membership_type} membership. \")\n",
    "\n",
    "def register_members():\n",
    "    print(\"\\nAdding a new member.\")\n",
    "    while True:\n",
    "        branch_id= input(\"Enter branch id: \")\n",
    "        if branch_id not in library_branches:\n",
    "            print(\"Branch does not exist\")\n",
    "            continue\n",
    "\n",
    "        member_id= input(\"Enter member ID: \")\n",
    "        if member_id in library_members:\n",
    "            print(f\"Member ID:{member_id} already exists\")\n",
    "            continue\n",
    "        name= input(\"Enter name: \")\n",
    "        contact= input(\"Enter contact number: \")\n",
    "        membership_type= input(\"Enter membership type (standard/premium): \").strip().lower()\n",
    "\n",
    "        if membership_type not in ['standard', 'premium']:\n",
    "            print(\"Membership type must be either Standard or Premium only.\")\n",
    "        \n",
    "        register_member(member_id, name, contact, membership_type, branch_id)\n",
    "\n",
    "        cont= input(\"Add another member? (yes/no): \").strip().lower()\n",
    "        if cont != 'yes':\n",
    "            break\n"
   ]
  },
  {
   "cell_type": "code",
   "execution_count": 35,
   "id": "54582833",
   "metadata": {},
   "outputs": [
    {
     "name": "stdout",
     "output_type": "stream",
     "text": [
      "\n",
      "Adding a new member.\n",
      "Member 'alex' registered with ID: 0001 at branch: 1 \n",
      "Member ID:0001 already exists\n",
      "Branch does not exist\n",
      "Member ID:0001 already exists\n",
      "Member 'brian' registered with ID: 0002 at branch: 1 \n",
      "Member ID:0001 already exists\n",
      "Member 'cody' registered with ID: 0003 at branch: 2 \n",
      "Member 'daryl' registered with ID: 0004 at branch: 3 \n"
     ]
    }
   ],
   "source": [
    "register_members()"
   ]
  },
  {
   "cell_type": "code",
   "execution_count": 36,
   "id": "c2eb3e1d",
   "metadata": {},
   "outputs": [
    {
     "name": "stdout",
     "output_type": "stream",
     "text": [
      "{'1': {'location': 'hyderabad', 'operating_hours': '10am-5pm', 'books': {'001': {'title': 'title1', 'author': 'auth1', 'genre': 'gen1', 'copies': 2, 'book_type': 'physical'}, '002': {'title': 'title2', 'author': 'auth2', 'genre': 'gen2', 'copies': 3, 'book_type': 'digital'}}}, '2': {'location': 'chennai', 'operating_hours': '11am-6pm'}, '3': {'location': 'vizag', 'operating_hours': '12pm-7pm'}}\n"
     ]
    }
   ],
   "source": [
    "print(library_branches)"
   ]
  },
  {
   "cell_type": "code",
   "execution_count": 37,
   "id": "875e885b",
   "metadata": {},
   "outputs": [
    {
     "name": "stdout",
     "output_type": "stream",
     "text": [
      "{'0001': {'name': 'alex', 'contact': '123', 'membership_type': 'standard', 'branch_id': '1'}, '0002': {'name': 'brian', 'contact': '456', 'membership_type': 'premium', 'branch_id': '1'}, '0003': {'name': 'cody', 'contact': '789', 'membership_type': 'standard', 'branch_id': '2'}, '0004': {'name': 'daryl', 'contact': '147', 'membership_type': 'premium', 'branch_id': '3'}}\n"
     ]
    }
   ],
   "source": [
    "print(library_members)"
   ]
  }
 ],
 "metadata": {
  "kernelspec": {
   "display_name": "Python 3",
   "language": "python",
   "name": "python3"
  },
  "language_info": {
   "codemirror_mode": {
    "name": "ipython",
    "version": 3
   },
   "file_extension": ".py",
   "mimetype": "text/x-python",
   "name": "python",
   "nbconvert_exporter": "python",
   "pygments_lexer": "ipython3",
   "version": "3.11.5"
  }
 },
 "nbformat": 4,
 "nbformat_minor": 5
}
